{
  "nbformat": 4,
  "nbformat_minor": 0,
  "metadata": {
    "colab": {
      "provenance": [],
      "authorship_tag": "ABX9TyPtaPBQWJh/CLYD451SWFQM",
      "include_colab_link": true
    },
    "kernelspec": {
      "name": "python3",
      "display_name": "Python 3"
    },
    "language_info": {
      "name": "python"
    }
  },
  "cells": [
    {
      "cell_type": "markdown",
      "metadata": {
        "id": "view-in-github",
        "colab_type": "text"
      },
      "source": [
        "<a href=\"https://colab.research.google.com/github/rizkidany3-glitch/Pemograman-Dasar/blob/main/tugas%20pertemuan%202.ipynb\" target=\"_parent\"><img src=\"https://colab.research.google.com/assets/colab-badge.svg\" alt=\"Open In Colab\"/></a>"
      ]
    },
    {
      "cell_type": "code",
      "source": [
        "#TODO:\n",
        "firstname = 'irwan'\n",
        "lastname = 'saputra'\n",
        "age = 20\n",
        "isMarried = False\n",
        "\n",
        "print(\"firstname :\", firstname)\n",
        "print(\"lastname :\", lastname)\n",
        "print(\"age :\", age)\n",
        "print(\"isMarried :\", isMarried)"
      ],
      "metadata": {
        "colab": {
          "base_uri": "https://localhost:8080/"
        },
        "id": "ACg_CnZvhWeD",
        "outputId": "7b56cad1-763d-4614-afac-29865a5b7d4f"
      },
      "execution_count": null,
      "outputs": [
        {
          "output_type": "stream",
          "name": "stdout",
          "text": [
            "firstname : irwan\n",
            "lastname : saputra\n",
            "age : 20\n",
            "isMarried : False\n"
          ]
        }
      ]
    },
    {
      "cell_type": "code",
      "source": [
        "# TODO\n",
        "data_diri = {'firstname': 'irwan', 'lastname': 'saputra', 'age': 20, 'isMarried': False}\n",
        "\n",
        "print(data_diri)"
      ],
      "metadata": {
        "colab": {
          "base_uri": "https://localhost:8080/"
        },
        "id": "mIhwpzqNo2Id",
        "outputId": "d11104bf-4990-4592-bf80-7ba35d8a4320"
      },
      "execution_count": null,
      "outputs": [
        {
          "output_type": "stream",
          "name": "stdout",
          "text": [
            "{'firstname': 'irwan', 'lastname': 'saputra', 'age': 20, 'isMarried': False}\n"
          ]
        }
      ]
    },
    {
      "cell_type": "code",
      "source": [
        "inspeksi = [\"pemahaman terhadap rencana dan desain\", \"ketersediaan bahan dan peralatan\", \"pengawasan pekerjaan\", \"kualitas konstruksi\", \"keselamatan kerja\", \"koordinasi dengan pemilik proyek\"]\n",
        "\n",
        "print(\"daftar inspeksi proyek:\")\n",
        "for i in range(len(inspeksi)):\n",
        "    print(f\"{i+1}. {inspeksi[i]}\")"
      ],
      "metadata": {
        "colab": {
          "base_uri": "https://localhost:8080/"
        },
        "id": "_jTR4Z1wpGxl",
        "outputId": "a08d2cd6-43b8-4f12-c49c-32e9dfd00348"
      },
      "execution_count": null,
      "outputs": [
        {
          "output_type": "stream",
          "name": "stdout",
          "text": [
            "daftar inspeksi proyek:\n",
            "1. pemahaman terhadap rencana dan desain\n",
            "2. ketersediaan bahan dan peralatan\n",
            "3. pengawasan pekerjaan\n",
            "4. kualitas konstruksi\n",
            "5. keselamatan kerja\n",
            "6. koordinasi dengan pemilik proyek\n"
          ]
        }
      ]
    },
    {
      "cell_type": "code",
      "source": [
        "# waktu datang\n",
        "startime = {\"HH\": 9, \"mm\": 23, \"ss\": 57}\n",
        "\n",
        "# waktu pulang\n",
        "endtime = {\"HH\": 15, \"mm\": 25, \"ss\": 43}\n",
        "\n",
        "print(\"waktu datang :\", startime)\n",
        "print(\"waktu pulang :\", endtime)"
      ],
      "metadata": {
        "colab": {
          "base_uri": "https://localhost:8080/"
        },
        "id": "jPs_-QG3pYmA",
        "outputId": "51269b2a-9961-43d4-da58-54588e6dab17"
      },
      "execution_count": null,
      "outputs": [
        {
          "output_type": "stream",
          "name": "stdout",
          "text": [
            "waktu datang : {'HH': 9, 'mm': 23, 'ss': 57}\n",
            "waktu pulang : {'HH': 15, 'mm': 25, 'ss': 43}\n"
          ]
        }
      ]
    },
    {
      "cell_type": "code",
      "source": [
        "# STUDI KELAS : PENGGABUNGAN DAN ANALISIS KATALOG PRODUK\n",
        "katalog_A = {\"oli\", \"ban\", \"lampu motor\", \"kampas rem\"}\n",
        "katalog_B = {\"piston\", \"oli\", \"ban\", \"bearing\"}\n",
        "produk_diskon = (\"oli\", \"ban\", \"noken as\")\n",
        "\n",
        "# gabungkan katalog_A dan katalog_B menjadi satu set unik\n",
        "katalog_lengkap = katalog_A.union(katalog_B)\n",
        "\n",
        "# cari produk mana saja dari katalog_lengkap dan produk_diskon\n",
        "produk_promo_aktif = katalog_lengkap.intersection(set(produk_diskon))\n",
        "\n",
        "# tampilkan hasil\n",
        "print(\"katalog lengkap:\", katalog_lengkap)\n",
        "print(\"produk diskon:\", produk_diskon)\n",
        "print(\"produk promo aktif:\", produk_promo_aktif)\n"
      ],
      "metadata": {
        "id": "sHZVijijpokO",
        "outputId": "bfb138e3-4f3c-43e8-f84b-eca0351d22e3",
        "colab": {
          "base_uri": "https://localhost:8080/"
        }
      },
      "execution_count": null,
      "outputs": [
        {
          "output_type": "stream",
          "name": "stdout",
          "text": [
            "katalog lengkap: {'oli', 'piston', 'lampu motor', 'bearing', 'ban', 'kampas rem'}\n",
            "produk diskon: ('oli', 'ban', 'noken as')\n",
            "produk promo aktif: {'ban', 'oli'}\n"
          ]
        }
      ]
    }
  ]
}