{
  "nbformat": 4,
  "nbformat_minor": 0,
  "metadata": {
    "colab": {
      "provenance": [],
      "authorship_tag": "ABX9TyPHGjS9x25fcySSXtksF1VU",
      "include_colab_link": true
    },
    "kernelspec": {
      "name": "python3",
      "display_name": "Python 3"
    },
    "language_info": {
      "name": "python"
    }
  },
  "cells": [
    {
      "cell_type": "markdown",
      "metadata": {
        "id": "view-in-github",
        "colab_type": "text"
      },
      "source": [
        "<a href=\"https://colab.research.google.com/github/rizkidany3-glitch/Pemograman-Dasar/blob/main/Pertemuan%20pertama.ipynb\" target=\"_parent\"><img src=\"https://colab.research.google.com/assets/colab-badge.svg\" alt=\"Open In Colab\"/></a>"
      ]
    },
    {
      "cell_type": "code",
      "execution_count": 2,
      "metadata": {
        "id": "PUBL1tfz-W7D",
        "outputId": "dfeb93d3-3857-44f9-b6a4-474692abf233",
        "colab": {
          "base_uri": "https://localhost:8080/"
        }
      },
      "outputs": [
        {
          "output_type": "stream",
          "name": "stdout",
          "text": [
            "Rizky Dani\n",
            "20\n",
            "RPE\n",
            "Pemerograman Dasar\n",
            "False\n"
          ]
        }
      ],
      "source": [
        "# Biodata Saya\n",
        "nama = \"Rizky Dani\"\n",
        "umur = 20\n",
        "jurusan = \"RPE\"\n",
        "matakuliah = \"Pemerograman Dasar\"\n",
        "status_lulus = False\n",
        "\n",
        "\n",
        "print (nama)\n",
        "print (umur)\n",
        "print (jurusan)\n",
        "print (matakuliah)\n",
        "print (status_lulus)\n"
      ]
    }
  ]
}