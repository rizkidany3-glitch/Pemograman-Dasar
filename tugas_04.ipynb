{
  "nbformat": 4,
  "nbformat_minor": 0,
  "metadata": {
    "colab": {
      "provenance": [],
      "authorship_tag": "ABX9TyMn/PPFaThY9NzZ4Fz82iMj",
      "include_colab_link": true
    },
    "kernelspec": {
      "name": "python3",
      "display_name": "Python 3"
    },
    "language_info": {
      "name": "python"
    }
  },
  "cells": [
    {
      "cell_type": "markdown",
      "metadata": {
        "id": "view-in-github",
        "colab_type": "text"
      },
      "source": [
        "<a href=\"https://colab.research.google.com/github/rizkidany3-glitch/Pemograman-Dasar/blob/main/tugas_04.ipynb\" target=\"_parent\"><img src=\"https://colab.research.google.com/assets/colab-badge.svg\" alt=\"Open In Colab\"/></a>"
      ]
    },
    {
      "cell_type": "code",
      "execution_count": 1,
      "metadata": {
        "colab": {
          "base_uri": "https://localhost:8080/"
        },
        "id": "dR2Ij9i4GMv6",
        "outputId": "cfab4abf-7b5a-48b2-d628-334a0e0cfb37"
      },
      "outputs": [
        {
          "output_type": "stream",
          "name": "stdout",
          "text": [
            "pengunjung adalah orang dewasa.\n"
          ]
        }
      ],
      "source": [
        "# PRAKTIKUM\n",
        "# variabel untuk menyimpan umur pengunjung\n",
        "umur: int = 20\n",
        "# program hanya akan mencetak pesan jika umur di atas 17\n",
        "if umur > 17:\n",
        "  print(\"pengunjung adalah orang dewasa.\")"
      ]
    },
    {
      "cell_type": "code",
      "source": [
        "username = input(\"masukkan username: \")\n",
        "password = input(\"masukkan password: \")\n",
        "if username == \"rizky dani\" and password == \"1234\":\n",
        "  print(\"login berhasil\")\n",
        "\n",
        "else:\n",
        "  print(\"login gagal\")"
      ],
      "metadata": {
        "colab": {
          "base_uri": "https://localhost:8080/"
        },
        "id": "FRDcpWSYJV_I",
        "outputId": "520d9938-c7d2-41eb-b4ce-997f64231a7a"
      },
      "execution_count": null,
      "outputs": [
        {
          "output_type": "stream",
          "name": "stdout",
          "text": [
            "masukkan username: rizky dani\n",
            "masukkan password: 1234\n",
            "login berhasil\n"
          ]
        }
      ]
    },
    {
      "cell_type": "code",
      "source": [
        "total_belanja = input(\"total belanja: Rp \")\n",
        "bayar = int(total_belanja)\n",
        "\n",
        "print(\"selamat karna belanja > Rp. 100.000 anda mendapat vouher makan \")\n",
        "print(\"dan diskon 5%\")\n",
        "\n",
        "diskon = int(total_belanja) * 5/100 #5%\n",
        "bayar = int(total_belanja) - diskon\n",
        "\n",
        "print(\"total yang harus dibayar: Rp %s\" % bayar)\n",
        "print(\"terima kasih sudah berbelanja di toko kami\")\n",
        "print(\"kami tunggu kunjungan anda selanjutnya.\")"
      ],
      "metadata": {
        "id": "J2s-2uJ7L0pM",
        "colab": {
          "base_uri": "https://localhost:8080/"
        },
        "outputId": "ad9b0d66-289b-47ce-d328-98981d893bf6"
      },
      "execution_count": null,
      "outputs": [
        {
          "output_type": "stream",
          "name": "stdout",
          "text": [
            "total belanja: Rp 120000\n",
            "selamat karna belanja > Rp. 100.000 anda mendapat vouher makan \n",
            "dan diskon 5%\n",
            "total yang harus dibayar: Rp 114000.0\n",
            "terima kasih sudah berbelanja di toko kami\n",
            "kami tunggu kunjungan anda selanjutnya.\n"
          ]
        }
      ]
    },
    {
      "cell_type": "code",
      "source": [
        "ada_notifikasi_baru: bool = True\n",
        "\n",
        "if ada_notifikasi_baru:\n",
        "  print(\"anda memiliki pesan baru!\")"
      ],
      "metadata": {
        "colab": {
          "base_uri": "https://localhost:8080/"
        },
        "id": "FAnxwsltgox6",
        "outputId": "ff48cc67-8865-4637-e822-47643d80b1fd"
      },
      "execution_count": null,
      "outputs": [
        {
          "output_type": "stream",
          "name": "stdout",
          "text": [
            "anda memiliki pesan baru!\n"
          ]
        }
      ]
    },
    {
      "cell_type": "code",
      "source": [
        "umur = input(\"berapa umur kamu: \")\n",
        "if int(umur) >= 18:\n",
        "  print(\"kamu boleh membuat sim\")\n",
        "else:\n",
        "  print(\"kamu belum boleh membuat sim\")"
      ],
      "metadata": {
        "colab": {
          "base_uri": "https://localhost:8080/"
        },
        "id": "kWghFPd-hGZg",
        "outputId": "556edb31-03a4-4578-ee81-186ed2815ce7"
      },
      "execution_count": null,
      "outputs": [
        {
          "output_type": "stream",
          "name": "stdout",
          "text": [
            "berapa umur kamu: 20\n",
            "kamu boleh membuat sim\n"
          ]
        }
      ]
    },
    {
      "cell_type": "code",
      "source": [
        "total_belanja = 50000\n",
        "if total_belanja > 20000:\n",
        "  diskon = total_belanja * 0.10\n",
        "  total_bayar = total_belanja - diskon\n",
        "  print(f\"anda mendapatkan diskon! total bayar: Rp {total_bayar}\")\n",
        "else:\n",
        "  print(f\"total bayar: Rp {total_belanja}\")"
      ],
      "metadata": {
        "colab": {
          "base_uri": "https://localhost:8080/"
        },
        "id": "2-rNNpjviDMT",
        "outputId": "42809655-1dda-4a9c-dbcd-425cceb0c558"
      },
      "execution_count": null,
      "outputs": [
        {
          "output_type": "stream",
          "name": "stdout",
          "text": [
            "anda mendapatkan diskon! total bayar: Rp 45000.0\n"
          ]
        }
      ]
    },
    {
      "cell_type": "code",
      "source": [
        "angka = int(input(\"masukkan bilangan: \"))\n",
        "\n",
        "if angka % 2 == 0:\n",
        "  print(\"bilangan genap\")\n",
        "else:\n",
        "  print(\"bilangan anjil\")"
      ],
      "metadata": {
        "colab": {
          "base_uri": "https://localhost:8080/"
        },
        "id": "isLJL0iZjGFA",
        "outputId": "aa28aae6-cade-4425-d050-aec33a5e6f34"
      },
      "execution_count": null,
      "outputs": [
        {
          "output_type": "stream",
          "name": "stdout",
          "text": [
            "masukkan bilangan: 470\n",
            "bilangan genap\n"
          ]
        }
      ]
    },
    {
      "cell_type": "code",
      "source": [
        "nilai = 80\n",
        "if nilai >= 85:\n",
        "  print(\"luar biasa! nilai A\")\n",
        "elif nilai >= 70:\n",
        "  print(\"bagus! nilai B\")\n",
        "elif nilai >= 60:\n",
        "  print(\"cukup! nilai C\")\n",
        "else:\n",
        "  print(\"nilai kurang, perlu belajar lebih giat.\")"
      ],
      "metadata": {
        "colab": {
          "base_uri": "https://localhost:8080/"
        },
        "id": "XsbzOSFyjfHn",
        "outputId": "1593f73c-dfa4-46c5-cd6c-099d33336be7"
      },
      "execution_count": null,
      "outputs": [
        {
          "output_type": "stream",
          "name": "stdout",
          "text": [
            "bagus! nilai B\n"
          ]
        }
      ]
    },
    {
      "cell_type": "code",
      "source": [
        "hari: str = \"sabtu\"\n",
        "\n",
        "if hari == \"sabtu\" or hari == \"minggu\":\n",
        "  diskon: float = 0.20\n",
        "  print(f\"selamat! anda mendapatkan diskon sebesar {diskon*100}%.\")\n",
        "\n",
        "elif hari == \"jumat\":\n",
        "  diskon: float = 0.15\n",
        "  print(f\"diskon spesial jumat! anda mendapatkan potongan {diskon*100}%.\")\n",
        "\n",
        "else:\n",
        "  diskon: float = 0.05\n",
        "  print(f\"anda mendapatkan diskon hari biasa sebesar {diskon*100}%.\")"
      ],
      "metadata": {
        "colab": {
          "base_uri": "https://localhost:8080/"
        },
        "id": "w_IgFgVdhZyP",
        "outputId": "ad5940fc-3803-4459-8f06-08313b4c6119"
      },
      "execution_count": null,
      "outputs": [
        {
          "output_type": "stream",
          "name": "stdout",
          "text": [
            "selamat! anda mendapatkan diskon sebesar 20.0%.\n"
          ]
        }
      ]
    },
    {
      "cell_type": "code",
      "source": [
        "rupiah = int(input(\"masukkan jumlah uang (Rp:)\"))\n",
        "print(\"1. dollar (USD)\")\n",
        "print(\"2. euro (EUR)\")\n",
        "print(\"3. yen (JPY)\")\n",
        "pilih = int(input(\"pilih konversi (1/2/3): \"))\n",
        "if pilih == 1:\n",
        "  print(\"dalam dollar:\", rupiah / 15000)\n",
        "elif pilih == 2:\n",
        "  print(\"dalam euro:\", rupiah / 16000)\n",
        "elif pilih == 3:\n",
        "  print(\"dalam yen:\", rupiah / 120)\n",
        "else:\n",
        "  print(\"pilihan tidak valid\")\n",
        "\n"
      ],
      "metadata": {
        "colab": {
          "base_uri": "https://localhost:8080/"
        },
        "id": "besDkyHEjVzZ",
        "outputId": "4fac863f-47e7-43f5-fe93-81cc8d7cbd2d"
      },
      "execution_count": null,
      "outputs": [
        {
          "output_type": "stream",
          "name": "stdout",
          "text": [
            "masukkan jumlah uang (Rp:)20000\n",
            "1. dollar (USD)\n",
            "2. euro (EUR)\n",
            "3. yen (JPY)\n",
            "pilih konversi (1/2/3): 1\n",
            "dalam dollar: 1.3333333333333333\n"
          ]
        }
      ]
    },
    {
      "cell_type": "code",
      "source": [
        "#LATIHAN PEMEROGRAMAN KE 4\n",
        "\n",
        "angka = int(input(\"masukkan angka:\"))\n",
        "\n",
        "if angka % 5 == 0:\n",
        "  print(\"kelipatan 5\")\n",
        "else:\n",
        "  print(\"bukan kelipatan 5\")"
      ],
      "metadata": {
        "colab": {
          "base_uri": "https://localhost:8080/"
        },
        "id": "D68feP8JleY7",
        "outputId": "371df214-43f6-49bb-bd99-358e71c9c946"
      },
      "execution_count": null,
      "outputs": [
        {
          "output_type": "stream",
          "name": "stdout",
          "text": [
            "masukkan angka:6\n",
            "bukan kelipatan 5\n"
          ]
        }
      ]
    },
    {
      "cell_type": "code",
      "source": [
        "tahun = int(input(\"masukkan tahun:\"))\n",
        "\n",
        "if tahun % 400 == 0:\n",
        "  print(\"tahun kabisat\")\n",
        "elif tahun % 4 == 0 and tahun % 100 != 0:\n",
        "  print(\"tahun kabisat\")\n",
        "else:\n",
        "  print(\"bukan tahun kabisat\")"
      ],
      "metadata": {
        "colab": {
          "base_uri": "https://localhost:8080/"
        },
        "id": "yQEEz4NDnYZU",
        "outputId": "b94eb431-51fe-4fbe-da8c-eca858204d1f"
      },
      "execution_count": null,
      "outputs": [
        {
          "output_type": "stream",
          "name": "stdout",
          "text": [
            "masukkan tahun:2025\n",
            "bukan tahun kabisat\n"
          ]
        }
      ]
    },
    {
      "cell_type": "code",
      "source": [
        "angka1 = float(input(\"masukkan angka pertama:\"))\n",
        "angka2 = float(input(\"masukkan angka kedua:\"))\n",
        "operator = input(\"masukkan operator (+, -, *, /):\")\n",
        "\n",
        "if operator == '+':\n",
        "  print(\"hasil:\", angka1 + angka2)\n",
        "elif operator == '-':\n",
        "  print(\"hasil:\", angka1 - angka2)\n",
        "elif operator == '*':\n",
        "  print(\"hasil:\", angka1 * angka2)\n",
        "elif operator == '/':\n",
        "  print(\"hasil:\", angka1 / angka2)\n",
        "else:\n",
        "  print(\"operator tidak dikenal\")"
      ],
      "metadata": {
        "colab": {
          "base_uri": "https://localhost:8080/"
        },
        "id": "ZXShR7usn6UM",
        "outputId": "f956a5e3-0fca-48ae-caa0-e248e175e99f"
      },
      "execution_count": null,
      "outputs": [
        {
          "output_type": "stream",
          "name": "stdout",
          "text": [
            "masukkan angka pertama:100\n",
            "masukkan angka kedua:200\n",
            "masukkan operator (+, -, *, /):+\n",
            "hasil: 300.0\n"
          ]
        }
      ]
    },
    {
      "cell_type": "code",
      "source": [
        "bulan = int(input(\"masukkan nomor bulan (1-12):\"))\n",
        "if bulan == 1:\n",
        "  print(\"januari\")\n",
        "elif bulan == 2:\n",
        "  print(\"februari\")\n",
        "elif bulan == 3:\n",
        "  print(\"maret\")\n",
        "elif bulan == 4:\n",
        "  print(\"april\")\n",
        "elif bulan == 5:\n",
        "  print(\"mei\")\n",
        "elif bulan == 6:\n",
        "  print(\"juni\")\n",
        "elif bulan == 7:\n",
        "  print(\"juli\")\n",
        "elif bulan == 8:\n",
        "  print(\"agustus\")\n",
        "elif bulan == 9:\n",
        "  print(\"september\")\n",
        "elif bulan == 10:\n",
        "  print(\"oktober\")\n",
        "elif bulan == 11:\n",
        "  print(\"november\")\n",
        "elif bulan == 12:\n",
        "  print(\"desember\")\n",
        "else:\n",
        "  print(\"input salah\")"
      ],
      "metadata": {
        "colab": {
          "base_uri": "https://localhost:8080/"
        },
        "id": "CRrDGqwaphMr",
        "outputId": "dce79f22-7d4e-4cc7-e4d3-80967f4638e6"
      },
      "execution_count": null,
      "outputs": [
        {
          "output_type": "stream",
          "name": "stdout",
          "text": [
            "masukkan nomor bulan (1-12):5\n",
            "mei\n"
          ]
        }
      ]
    },
    {
      "cell_type": "code",
      "source": [
        "jam = int(input(\"masukkan jam (0-23):\"))\n",
        "if 0 <= jam <= 11:\n",
        "  print(\"selamat pagi!\")\n",
        "elif 12 <= jam <= 15:\n",
        "  print(\"selamat siang!\")\n",
        "elif 16 <= jam <= 18:\n",
        "  print(\"selamat sore!\")\n",
        "elif 19 <= jam <= 23:\n",
        "  print(\"selamat malam!\")\n",
        "else:\n",
        "  print(\"jam tidak valid\")"
      ],
      "metadata": {
        "colab": {
          "base_uri": "https://localhost:8080/"
        },
        "id": "ayREnkOGqkZn",
        "outputId": "6250103f-bf58-4726-e5a5-2d4149ec02c8"
      },
      "execution_count": null,
      "outputs": [
        {
          "output_type": "stream",
          "name": "stdout",
          "text": [
            "masukkan jam (0-23):19\n",
            "selamat malam!\n"
          ]
        }
      ]
    },
    {
      "cell_type": "code",
      "source": [
        "\n",
        "#TUGAS KE 4\n",
        "\n",
        "print(\"=\" * 30)\n",
        "print(\"selamat datang di kafe gemini\")\n",
        "print(\"=\" * 30)\n",
        "print(\"menu makanan & minuman:\")\n",
        "print(\"1. kopi hitam - Rp 12.000\")\n",
        "print(\"2. teh manis - Rp 8.000\")\n",
        "print(\"3. roti bakar - Rp 15.000\")\n",
        "print(\"4. mie instan - Rp 10.000\")\n",
        "print(\"=\"*30)\n",
        "pilihan_str = input(\"silahkan masukkan nomor pilihan anda (1-4):\")\n",
        "pilihan = int(pilihan_str)\n",
        "nama_pesanan = \"\"\n",
        "harga = 0\n",
        "\n",
        "#menentukan menu dan harga satuan\n",
        "if pilihan == 1:\n",
        "  nama_pesanan = \"kopi hitam\"\n",
        "  harga = 12000\n",
        "elif pilihan == 2:\n",
        "  nama_pesanan = \"teh manis\"\n",
        "  harga = 8000\n",
        "elif pilihan == 3:\n",
        "  nama_pesanan = \"roti bakar\"\n",
        "  harga = 15000\n",
        "elif pilihan == 4:\n",
        "  nama_pesanan = \"mie instan\"\n",
        "  harga = 10000\n",
        "else:\n",
        "  print(\"maaf, pilihan menu tidak valid. silahkan jalankan ulang program\")\n",
        "  exit()\n",
        "\n",
        "print(f\"anda memesan: {nama_pesanan} dengan harga Rp {harga}\")\n",
        "# modifikasi diskon otomatis\n",
        "diskon_persen = 0\n",
        "if harga > 15000:\n",
        "  diskon_persen = 70\n",
        "elif harga > 10000:\n",
        "  diskon_persen = 50\n",
        "elif harga > 5000:\n",
        "  diskon_persen = 30\n",
        "else:\n",
        "  diskon_persen = 0\n",
        "# hitung nilai diskon\n",
        "diskon = diskon_persen / 100\n",
        "potongan = harga * diskon\n",
        "harga_setelah_diskon = harga - potongan\n",
        "print(f\"\\ndiskon otomatis diterapkan: {diskon_persen}%\")\n",
        "print(f\"potongan harga: Rp {int(potongan)}\")\n",
        "print(f\"harga akhir(setelah diskon): Rp {int(harga_setelah_diskon)}\")\n",
        "print(\"=\" * 30)\n",
        "#proses pembayaran\n",
        "uang_dibayar_str: input(f\"total yang harus dibayar: Rp {int(harga_setelah_diskon)}. masukkan jumlah uang dibayar: \")\n",
        "uang_dibayar = int(uang_dibayar_str)\n",
        "if uang_dibayar >= harga_setelah_diskon:\n",
        "  kembalian = uang_dibayar - harga_setelah_diskon\n",
        "  # cetak struk\n",
        "  print(\"\\n--- struk pembayaran ---\")\n",
        "  print(f\"pesanan anda            : {nama_pesanan}\")\n",
        "  print(f\"total harga (awal)      : Rp {harga}\")\n",
        "  print(f\"diskon                  : {diskon_persen}%\")\n",
        "  print(f\"harga akhir             : Rp {int(harga_setelah_diskon)}\")\n",
        "  print(f\"uang dibayar            : Rp {uang_dibayar}\")\n",
        "  print(f\"kembalian               : Rp {int(kembalian)}\")\n",
        "  print(\"=\" * 30)\n",
        "  print(\"terimakasih telah berbelanja!\")\n",
        "\n",
        "else:\n",
        "  kekurangan = harga_setelah_diskon - uang_dibayar\n",
        "  print(f\"\\nmaaf, uang anda kurang sebesar Rp {int(kekurangan)}.\")\n",
        "\n",
        "  print(\"=\" * 30)"
      ],
      "metadata": {
        "colab": {
          "base_uri": "https://localhost:8080/"
        },
        "outputId": "56538d78-5366-4250-8c4f-b5f14c6cb3d0",
        "id": "TftgSxk23zNl"
      },
      "execution_count": null,
      "outputs": [
        {
          "output_type": "stream",
          "name": "stdout",
          "text": [
            "==============================\n",
            "selamat datang di kafe gemini\n",
            "==============================\n",
            "menu makanan & minuman:\n",
            "1. kopi hitam - Rp 12.000\n",
            "2. teh manis - Rp 8.000\n",
            "3. roti bakar - Rp 15.000\n",
            "4. mie instan - Rp 10.000\n",
            "==============================\n",
            "silahkan masukkan nomor pilihan anda (1-4):1\n",
            "anda memesan: kopi hitam dengan harga Rp 12000\n",
            "\n",
            "diskon otomatis diterapkan: 50%\n",
            "potongan harga: Rp 6000\n",
            "harga akhir(setelah diskon): Rp 6000\n",
            "==============================\n",
            "total yang harus dibayar: Rp 6000. masukkan jumlah uang dibayar: 50000\n",
            "\n",
            "--- struk pembayaran ---\n",
            "pesanan anda            : kopi hitam\n",
            "total harga (awal)      : Rp 12000\n",
            "diskon                  : 50%\n",
            "harga akhir             : Rp 6000\n",
            "uang dibayar            : Rp 50000\n",
            "kembalian               : Rp 44000\n",
            "==============================\n",
            "terimakasih telah berbelanja!\n"
          ]
        }
      ]
    }
  ]
}